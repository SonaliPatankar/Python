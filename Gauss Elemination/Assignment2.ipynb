{
 "cells": [
  {
   "cell_type": "code",
   "execution_count": 1,
   "id": "7ae12113-fcb2-41d3-8135-4b46cfb2d458",
   "metadata": {},
   "outputs": [
    {
     "name": "stdout",
     "output_type": "stream",
     "text": [
      "Enter values for the coefficient matrix:\n"
     ]
    },
    {
     "name": "stdin",
     "output_type": "stream",
     "text": [
      "Enter row values separated by space:  2 3 -1\n",
      "Enter row values separated by space:  1 -1 2\n",
      "Enter row values separated by space:  3 2 1\n"
     ]
    },
    {
     "name": "stdout",
     "output_type": "stream",
     "text": [
      "Enter values for the constant matrix:\n"
     ]
    },
    {
     "name": "stdin",
     "output_type": "stream",
     "text": [
      "Enter constant value:  7\n",
      "Enter constant value:  5\n",
      "Enter constant value:  12\n"
     ]
    },
    {
     "name": "stdout",
     "output_type": "stream",
     "text": [
      "Solution:\n",
      "x0 = 4.1499999999999995\n",
      "x1 = -0.35000000000000003\n",
      "x2 = 0.25\n"
     ]
    }
   ],
   "source": [
    "import numpy as np\n",
    "\n",
    "def gauss_elimination(a_matrix, b_matrix):\n",
    "    \"\"\"\n",
    "    Solves a system of linear equations using Gaussian elimination with partial pivoting.\n",
    "\n",
    "    Parameters:\n",
    "        a_matrix (numpy.ndarray): Coefficient matrix of shape (n, n).\n",
    "        b_matrix (numpy.ndarray): Right-hand side vector of shape (n, 1).\n",
    "\n",
    "    Returns:\n",
    "        numpy.ndarray: Solution vector of shape (n, 1).\n",
    "    \"\"\"\n",
    "    if a_matrix.shape[0] != a_matrix.shape[1]:\n",
    "        print(\"Irregular input - Coefficient matrix must be square\")\n",
    "        return\n",
    "\n",
    "    if b_matrix.shape != (a_matrix.shape[0], 1):\n",
    "        print(\"Problem with input constants - Check the dimensions\")\n",
    "        return\n",
    "\n",
    "    n = len(b_matrix)\n",
    "    x = np.zeros(n)\n",
    "\n",
    "    # Create augmented matrix\n",
    "    augmented_matrix = np.concatenate((a_matrix, b_matrix), axis=1)\n",
    "\n",
    "    # Forward Elimination with Partial Pivoting\n",
    "    for i in range(n):\n",
    "        # Partial Pivoting: Find the row with the maximum absolute value in the current column\n",
    "        max_row_index = i\n",
    "        for k in range(i+1, n):\n",
    "            if abs(augmented_matrix[k][i]) > abs(augmented_matrix[max_row_index][i]):\n",
    "                max_row_index = k\n",
    "        # Swap rows to bring the row with the maximum absolute value to the current row\n",
    "        augmented_matrix[[i, max_row_index]] = augmented_matrix[[max_row_index, i]]\n",
    "\n",
    "        # Check for zero pivot\n",
    "        if augmented_matrix[i][i] == 0:\n",
    "            print(\"Zero pivot encountered - Gaussian Elimination cannot proceed.\")\n",
    "            return\n",
    "\n",
    "        # Gaussian Elimination\n",
    "        for j in range(i+1, n):\n",
    "            scaling_factor = augmented_matrix[j][i] / augmented_matrix[i][i]\n",
    "            augmented_matrix[j] = augmented_matrix[j] - scaling_factor * augmented_matrix[i]\n",
    "\n",
    "    # Backward Substitution\n",
    "    x[n-1] = augmented_matrix[n-1][n] / augmented_matrix[n-1][n-1]\n",
    "    for i in range(n-2, -1, -1):\n",
    "        summation = 0\n",
    "        for j in range(i+1, n):\n",
    "            summation += augmented_matrix[i][j] * x[j]\n",
    "        x[i] = (augmented_matrix[i][n] - summation) / augmented_matrix[i][i]\n",
    "\n",
    "    # Display solution\n",
    "    print(\"Solution:\")\n",
    "    for i in range(n):\n",
    "        print(f\"x{i} = {x[i]}\")\n",
    "\n",
    "# Input matrix values\n",
    "print(\"Enter values for the coefficient matrix:\")\n",
    "variable_matrix = []\n",
    "for i in range(3):\n",
    "    row = input(\"Enter row values separated by space: \").split()\n",
    "    variable_matrix.append([float(val) for val in row])\n",
    " \n",
    "print(\"Enter values for the constant matrix:\")\n",
    "constant_matrix = []\n",
    "for i in range(3):\n",
    "    row = float(input(\"Enter constant value: \"))\n",
    "    constant_matrix.append([row])\n",
    " \n",
    "variable_matrix = np.array(variable_matrix)\n",
    "constant_matrix = np.array(constant_matrix)\n",
    "\n",
    "# Call the function with the input matrices\n",
    "gauss_elimination(variable_matrix, constant_matrix)"
   ]
  },
  {
   "cell_type": "code",
   "execution_count": null,
   "id": "d8e93757-d0f7-4904-bf75-96da509db0ed",
   "metadata": {},
   "outputs": [],
   "source": []
  }
 ],
 "metadata": {
  "kernelspec": {
   "display_name": "Python 3 (ipykernel)",
   "language": "python",
   "name": "python3"
  },
  "language_info": {
   "codemirror_mode": {
    "name": "ipython",
    "version": 3
   },
   "file_extension": ".py",
   "mimetype": "text/x-python",
   "name": "python",
   "nbconvert_exporter": "python",
   "pygments_lexer": "ipython3",
   "version": "3.12.3"
  }
 },
 "nbformat": 4,
 "nbformat_minor": 5
}
